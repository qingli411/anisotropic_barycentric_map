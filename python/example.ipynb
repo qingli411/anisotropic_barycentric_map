{
 "cells": [
  {
   "cell_type": "code",
   "execution_count": null,
   "id": "161a20e2",
   "metadata": {},
   "outputs": [],
   "source": [
    "from anisotropicBarycentricMap import *\n",
    "import scipy.io as sio"
   ]
  },
  {
   "cell_type": "code",
   "execution_count": null,
   "id": "cb52f74a",
   "metadata": {},
   "outputs": [],
   "source": [
    "data = sio.loadmat('../data/example_langmuir.mat')\n",
    "uu = data['uu'].flatten()\n",
    "vv = data['vv'].flatten()\n",
    "ww = data['ww'].flatten()\n",
    "uv = data['uv'].flatten()\n",
    "uw = data['uw'].flatten()\n",
    "vw = data['vw'].flatten()\n",
    "z  = data['z'].flatten()\n",
    "hb = data['hb']\n",
    "idx = np.argmin(np.abs(z+hb))\n",
    "wgt = -z[:idx]/z[idx]\n",
    "a = AnisotropyTensor(uu[:idx], vv[:idx], ww[:idx], uv[:idx], uw[:idx], vw[:idx])"
   ]
  },
  {
   "cell_type": "code",
   "execution_count": null,
   "id": "ad1d5236",
   "metadata": {},
   "outputs": [],
   "source": [
    "plt.figure(figsize=[6,4])\n",
    "ax = plt.gca()\n",
    "im = a.plot_anisotropic_barycentric_map(ax=ax, c=wgt, s=14, marker='o', cmap='rainbow')\n",
    "cb = plt.colorbar(im)\n",
    "cb.set_label('$z/h_b$')\n",
    "# save figure\n",
    "plt.tight_layout()\n",
    "figname = 'anisotropicBarycentricMap.png'\n",
    "plt.savefig(figname, dpi = 300, facecolor='w')"
   ]
  },
  {
   "cell_type": "code",
   "execution_count": null,
   "id": "ac270862",
   "metadata": {},
   "outputs": [],
   "source": [
    "plt.figure(figsize=[6,4])\n",
    "ax = plt.gca()\n",
    "im = a.plot_eigen_vector_direction_max_min(ax=ax, c=wgt, cmap='rainbow')\n",
    "cb = plt.colorbar(im)\n",
    "cb.set_label('$z/h_b$')\n",
    "plt.tight_layout()\n",
    "# save figure\n",
    "figname = 'directionOfAnisotropy.png'\n",
    "plt.savefig(figname, dpi = 300, facecolor='w')"
   ]
  },
  {
   "cell_type": "code",
   "execution_count": null,
   "id": "4c4a114d",
   "metadata": {},
   "outputs": [],
   "source": []
  }
 ],
 "metadata": {
  "kernelspec": {
   "display_name": "Python 3",
   "language": "python",
   "name": "python3"
  },
  "language_info": {
   "codemirror_mode": {
    "name": "ipython",
    "version": 3
   },
   "file_extension": ".py",
   "mimetype": "text/x-python",
   "name": "python",
   "nbconvert_exporter": "python",
   "pygments_lexer": "ipython3",
   "version": "3.9.15"
  }
 },
 "nbformat": 4,
 "nbformat_minor": 5
}
